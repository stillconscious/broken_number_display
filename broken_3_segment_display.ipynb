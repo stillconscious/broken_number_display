{
  "nbformat": 4,
  "nbformat_minor": 0,
  "metadata": {
    "colab": {
      "provenance": [],
      "authorship_tag": "ABX9TyO9ijrBTDbEnO/br6j4720+",
      "include_colab_link": true
    },
    "kernelspec": {
      "name": "python3",
      "display_name": "Python 3"
    },
    "language_info": {
      "name": "python"
    }
  },
  "cells": [
    {
      "cell_type": "markdown",
      "metadata": {
        "id": "view-in-github",
        "colab_type": "text"
      },
      "source": [
        "<a href=\"https://colab.research.google.com/github/stillconscious/broken_number_display/blob/main/broken_3_segment_display.ipynb\" target=\"_parent\"><img src=\"https://colab.research.google.com/assets/colab-badge.svg\" alt=\"Open In Colab\"/></a>"
      ]
    },
    {
      "cell_type": "code",
      "execution_count": null,
      "metadata": {
        "id": "RgGbl3eN48uJ"
      },
      "outputs": [],
      "source": [
        "# step 1 - first we will create a number generator in 2d format.\n",
        "#           and at random make one segment dead.\n",
        "# step 2 - create a dead segment detector.\n",
        "# step 3 - if only one segment detected , print its location. otherwise none"
      ]
    },
    {
      "cell_type": "code",
      "source": [
        "import random\n",
        "def random_2d_number():\n",
        "  top = {\n",
        "      \"-\": \"   \",\n",
        "      1: \"   \",\n",
        "      2: \" _ \",\n",
        "      3: \" _ \",\n",
        "      4: \"   \",\n",
        "      5: \" _ \",\n",
        "      6: \" _ \",\n",
        "      7: \" _ \",\n",
        "      8: \" _ \",\n",
        "      9: \" _ \",\n",
        "      0: \" _ \"\n",
        "  }\n",
        "  middle = {\n",
        "      \"-\": \" _ \",\n",
        "      1: \"|  \",\n",
        "      2: \" _|\",\n",
        "      3: \" _|\",\n",
        "      4: \"|_|\",\n",
        "      5: \"|_ \",\n",
        "      6: \"|_ \",\n",
        "      7: \"  |\",\n",
        "      8: \"|_|\",\n",
        "      9: \"|_|\",\n",
        "      0: \"| |\"\n",
        "  }\n",
        "  down = {\n",
        "      \"-\": \"   \",\n",
        "      1: \"|  \",\n",
        "      2: \"|_ \",\n",
        "      3: \" _|\",\n",
        "      4: \"  |\",\n",
        "      5: \" _|\",\n",
        "      6: \"|_|\",\n",
        "      7: \"  |\",\n",
        "      8: \"|_|\",\n",
        "      9: \" _|\",\n",
        "      0: \"|_|\"\n",
        "  }\n",
        "\n",
        "  string_2d = []\n",
        "  n = random.randint(0, 9)\n",
        "  if n == 0:\n",
        "    string_2d.append(top[\"-\"])\n",
        "    x = random.randint(0, 9)\n",
        "    string_2d.append(top[x])\n",
        "    y = random.randint(0, 9)\n",
        "    string_2d.append(top[y])\n",
        "\n",
        "    string_2d.append(middle[\"-\"])\n",
        "    string_2d.append(middle[x])\n",
        "    string_2d.append(middle[y])\n",
        "\n",
        "    string_2d.append(down[\"-\"])\n",
        "    string_2d.append(down[x])\n",
        "    string_2d.append(down[y])\n",
        "  if n != 0:\n",
        "    x = random.randint(0, 9)\n",
        "    string_2d.append(top[x])\n",
        "    y = random.randint(0, 9)\n",
        "    string_2d.append(top[y])\n",
        "    z = random.randint(0, 9)\n",
        "    string_2d.append(top[z])\n",
        "\n",
        "    string_2d.append(middle[x])\n",
        "    string_2d.append(middle[y])\n",
        "    string_2d.append(middle[z])\n",
        "\n",
        "    string_2d.append(down[x])\n",
        "    string_2d.append(down[y])\n",
        "    string_2d.append(down[z])\n",
        "  return string_2d"
      ],
      "metadata": {
        "id": "UGTYtRh47fpx"
      },
      "execution_count": null,
      "outputs": []
    },
    {
      "cell_type": "code",
      "source": [
        "import random\n",
        "number = random_2d_number()\n",
        "count_1 = 0\n",
        "count_2 = 0\n",
        "broken_num_1 = random.randint(0, 8)\n",
        "broken_num_2 = random.randint(0, 2)\n",
        "for i in number:\n",
        "  if count_1 == 2 or count_1 == 5:\n",
        "    if broken_num_1 == count_1:\n",
        "      for letter in i:\n",
        "        if count_2 == broken_num_2:\n",
        "          if count_2 == 2:\n",
        "            print(\" \")\n",
        "          else:\n",
        "            print(\" \", end=\"\")\n",
        "        else:\n",
        "          if count_2 == 2:\n",
        "            print(letter)\n",
        "          else:\n",
        "            print(letter, end=\"\")\n",
        "        count_2 = count_2 + 1\n",
        "    else:\n",
        "      print(i)\n",
        "  else:\n",
        "    if broken_num_1 == count_1:\n",
        "      for letter in i:\n",
        "        if count_2 == broken_num_2:\n",
        "          if count_2 == 2:\n",
        "            print(\" \", end=\" \")\n",
        "          else:\n",
        "            print(\" \", end=\"\")\n",
        "        else:\n",
        "          if count_2 == 2:\n",
        "            print(letter, end=\" \")\n",
        "          else:\n",
        "            print(letter, end=\"\")\n",
        "        count_2 = count_2 + 1\n",
        "    else:\n",
        "      print(i, end=\" \")\n",
        "  count_1 = count_1 + 1"
      ],
      "metadata": {
        "colab": {
          "base_uri": "https://localhost:8080/"
        },
        "id": "mm83XzQ2FDBh",
        "outputId": "7ea53f17-2ea4-413d-f936-a807e9df1b0c"
      },
      "execution_count": null,
      "outputs": [
        {
          "output_type": "stream",
          "name": "stdout",
          "text": [
            " _       _ \n",
            "|_  |_|  _|\n",
            "|_    | |_  "
          ]
        }
      ]
    },
    {
      "cell_type": "code",
      "source": [
        "print(number)\n",
        "print(broken_num_1)\n",
        "print(broken_num_2)"
      ],
      "metadata": {
        "colab": {
          "base_uri": "https://localhost:8080/"
        },
        "id": "515OSD25IWox",
        "outputId": "b5275f30-8add-4a0a-ab46-06ce1c49b02f"
      },
      "execution_count": null,
      "outputs": [
        {
          "output_type": "stream",
          "name": "stdout",
          "text": [
            "[' _ ', ' _ ', '   ', '|_ ', ' _|', '|  ', '|_|', ' _|', '|  ']\n",
            "6\n",
            "1\n"
          ]
        }
      ]
    }
  ]
}